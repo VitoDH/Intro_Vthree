{
 "cells": [
  {
   "cell_type": "code",
   "execution_count": 4,
   "metadata": {},
   "outputs": [],
   "source": [
    "from __future__ import print_function\n",
    "import mxnet as mx\n",
    "from mxnet import autograd\n",
    "from mxnet import gluon\n",
    "import numpy as np"
   ]
  },
  {
   "cell_type": "code",
   "execution_count": 6,
   "metadata": {},
   "outputs": [],
   "source": [
    "X = np.random.randn(10000,2)\n",
    "Y = 2 * X[:,0] - 3.4 * X[:,1] + 4.2 + .01 * np.random.normal(size=10000)\n",
    "\n",
    "ctx = mx.cpu()\n",
    "net = gluon.nn.Sequential()\n",
    "net.add(gluon.nn.Dense(1))\n",
    "net.collect_params().initialize()\n",
    "loss = gluon.loss.L2Loss()"
   ]
  },
  {
   "cell_type": "code",
   "execution_count": 7,
   "metadata": {},
   "outputs": [],
   "source": [
    "batch_sizes = [1,10,100,1000,10000]\n",
    "learning_rates = [0.1,0.1,0.5,0.5,1.0]\n",
    "epochs = 3"
   ]
  },
  {
   "cell_type": "code",
   "execution_count": 8,
   "metadata": {},
   "outputs": [
    {
     "name": "stdout",
     "output_type": "stream",
     "text": [
      "Batch size: 1 dense0_weight [ 1.9985865 -3.402167 ]\n",
      "Batch size: 1 dense0_bias 4.197694\n",
      "Batch size: 10 dense0_weight [ 1.9999421 -3.3997474]\n",
      "Batch size: 10 dense0_bias 4.1982126\n",
      "Batch size: 100 dense0_weight [ 1.9990214 -3.400498 ]\n",
      "Batch size: 100 dense0_bias 4.19952\n",
      "Batch size: 1000 dense0_weight [ 1.9996382 -3.4000344]\n",
      "Batch size: 1000 dense0_bias 4.199864\n",
      "Batch size: 10000 dense0_weight [ 1.9999006 -3.3999245]\n",
      "Batch size: 10000 dense0_bias 4.199973\n"
     ]
    }
   ],
   "source": [
    "for batch_size, learning_rate in zip(batch_sizes, learning_rates):\n",
    "    trainer = gluon.Trainer(net.collect_params(), 'sgd',\n",
    "                            {'learning_rate': learning_rate})\n",
    "    net.collect_params().initialize(mx.init.Xavier(magnitude=2.24),\n",
    "                                    ctx=ctx, force_reinit=True)\n",
    "    train_data = mx.io.NDArrayIter(X, Y, batch_size=batch_size, shuffle=True)\n",
    "\n",
    "    for e in range(epochs):\n",
    "        train_data.reset()\n",
    "        for i, batch in enumerate(train_data):\n",
    "            data = batch.data[0].as_in_context(ctx)\n",
    "            label = batch.label[0].as_in_context(ctx).reshape((-1, 1))\n",
    "            with autograd.record():\n",
    "                output = net(data)\n",
    "                mse = loss(output, label)\n",
    "            mse.backward()\n",
    "            trainer.step(data.shape[0])\n",
    "\n",
    "    for para_name, para_value in net.collect_params().items():\n",
    "        print(\"Batch size:\", batch_size, para_name,\n",
    "              para_value.data().asnumpy()[0])"
   ]
  },
  {
   "cell_type": "code",
   "execution_count": null,
   "metadata": {},
   "outputs": [],
   "source": []
  }
 ],
 "metadata": {
  "kernelspec": {
   "display_name": "Python 3",
   "language": "python",
   "name": "python3"
  },
  "language_info": {
   "codemirror_mode": {
    "name": "ipython",
    "version": 3
   },
   "file_extension": ".py",
   "mimetype": "text/x-python",
   "name": "python",
   "nbconvert_exporter": "python",
   "pygments_lexer": "ipython3",
   "version": "3.6.5"
  }
 },
 "nbformat": 4,
 "nbformat_minor": 2
}
